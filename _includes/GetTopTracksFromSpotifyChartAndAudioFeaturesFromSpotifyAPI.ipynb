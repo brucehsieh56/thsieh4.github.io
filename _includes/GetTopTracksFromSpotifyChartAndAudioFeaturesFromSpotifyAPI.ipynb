{
 "cells": [
  {
   "cell_type": "markdown",
   "metadata": {},
   "source": [
    "# Get Top Tracks From Spotify Chart and Audio Features From Spotify API\n",
    "## Part 01: Data Collection From Spotify Chart\n",
    "### Import library"
   ]
  },
  {
   "cell_type": "code",
   "execution_count": 1,
   "metadata": {},
   "outputs": [],
   "source": [
    "# import the usual Python library for data science\n",
    "import numpy as np\n",
    "import pandas as pd\n",
    "import matplotlib.pyplot as plt"
   ]
  },
  {
   "cell_type": "markdown",
   "metadata": {},
   "source": [
    "### Get Top 200 tracks from Spotify Chart\n",
    "https://spotifycharts.com/regional/global/daily/2017-11-05"
   ]
  },
  {
   "cell_type": "code",
   "execution_count": 2,
   "metadata": {},
   "outputs": [
    {
     "data": {
      "text/html": [
       "<div>\n",
       "<style>\n",
       "    .dataframe thead tr:only-child th {\n",
       "        text-align: right;\n",
       "    }\n",
       "\n",
       "    .dataframe thead th {\n",
       "        text-align: left;\n",
       "    }\n",
       "\n",
       "    .dataframe tbody tr th {\n",
       "        vertical-align: top;\n",
       "    }\n",
       "</style>\n",
       "<table border=\"1\" class=\"dataframe\">\n",
       "  <thead>\n",
       "    <tr style=\"text-align: right;\">\n",
       "      <th></th>\n",
       "      <th>Position</th>\n",
       "      <th>Track Name</th>\n",
       "      <th>Artist</th>\n",
       "      <th>Streams</th>\n",
       "      <th>URL</th>\n",
       "    </tr>\n",
       "  </thead>\n",
       "  <tbody>\n",
       "    <tr>\n",
       "      <th>0</th>\n",
       "      <td>1</td>\n",
       "      <td>rockstar</td>\n",
       "      <td>Post Malone</td>\n",
       "      <td>5086329</td>\n",
       "      <td>https://open.spotify.com/track/7wGoVu4Dady5GV0...</td>\n",
       "    </tr>\n",
       "    <tr>\n",
       "      <th>1</th>\n",
       "      <td>2</td>\n",
       "      <td>Havana</td>\n",
       "      <td>Camila Cabello</td>\n",
       "      <td>4219170</td>\n",
       "      <td>https://open.spotify.com/track/0ofbQMrRDsUaVKq...</td>\n",
       "    </tr>\n",
       "    <tr>\n",
       "      <th>2</th>\n",
       "      <td>3</td>\n",
       "      <td>Too Good At Goodbyes</td>\n",
       "      <td>Sam Smith</td>\n",
       "      <td>3652071</td>\n",
       "      <td>https://open.spotify.com/track/1mXVgsBdtIVeCLJ...</td>\n",
       "    </tr>\n",
       "    <tr>\n",
       "      <th>3</th>\n",
       "      <td>4</td>\n",
       "      <td>New Rules</td>\n",
       "      <td>Dua Lipa</td>\n",
       "      <td>3295470</td>\n",
       "      <td>https://open.spotify.com/track/2ekn2ttSfGqwhha...</td>\n",
       "    </tr>\n",
       "    <tr>\n",
       "      <th>4</th>\n",
       "      <td>5</td>\n",
       "      <td>What Lovers Do (feat. SZA)</td>\n",
       "      <td>Maroon 5</td>\n",
       "      <td>2994195</td>\n",
       "      <td>https://open.spotify.com/track/4nYsmWkuTaowTMy...</td>\n",
       "    </tr>\n",
       "  </tbody>\n",
       "</table>\n",
       "</div>"
      ],
      "text/plain": [
       "   Position                  Track Name          Artist  Streams  \\\n",
       "0         1                    rockstar     Post Malone  5086329   \n",
       "1         2                      Havana  Camila Cabello  4219170   \n",
       "2         3        Too Good At Goodbyes       Sam Smith  3652071   \n",
       "3         4                   New Rules        Dua Lipa  3295470   \n",
       "4         5  What Lovers Do (feat. SZA)        Maroon 5  2994195   \n",
       "\n",
       "                                                 URL  \n",
       "0  https://open.spotify.com/track/7wGoVu4Dady5GV0...  \n",
       "1  https://open.spotify.com/track/0ofbQMrRDsUaVKq...  \n",
       "2  https://open.spotify.com/track/1mXVgsBdtIVeCLJ...  \n",
       "3  https://open.spotify.com/track/2ekn2ttSfGqwhha...  \n",
       "4  https://open.spotify.com/track/4nYsmWkuTaowTMy...  "
      ]
     },
     "execution_count": 2,
     "metadata": {},
     "output_type": "execute_result"
    }
   ],
   "source": [
    "# link to Spotify Chart\n",
    "url = 'https://spotifycharts.com/regional/global/daily/2017-11-05/download'\n",
    "\n",
    "# get data as 'DataFrame' object\n",
    "df = pd.read_csv(url)\n",
    "\n",
    "# have quick look\n",
    "df.head()"
   ]
  },
  {
   "cell_type": "markdown",
   "metadata": {},
   "source": [
    "We have five columns **Position**, **Track Name**, **Artist**, **Streams**, and **URL** from Spotify Chart."
   ]
  },
  {
   "cell_type": "markdown",
   "metadata": {},
   "source": [
    "### Simple exploratory data analysis\n",
    "Let's see who has the most songs listed in Top 200 on **2017-11-05**."
   ]
  },
  {
   "cell_type": "code",
   "execution_count": 3,
   "metadata": {},
   "outputs": [
    {
     "data": {
      "text/plain": [
       "Sam Smith          16\n",
       "Ed Sheeran          7\n",
       "Post Malone         6\n",
       "21 Savage           4\n",
       "Taylor Swift        4\n",
       "XXXTENTACION        4\n",
       "J Balvin            3\n",
       "Imagine Dragons     3\n",
       "Charlie Puth        3\n",
       "Ozuna               3\n",
       "Name: Artist, dtype: int64"
      ]
     },
     "execution_count": 3,
     "metadata": {},
     "output_type": "execute_result"
    }
   ],
   "source": [
    "df.Artist.value_counts().head(10)"
   ]
  },
  {
   "cell_type": "markdown",
   "metadata": {},
   "source": [
    "Looks like **Sam Smith** is the superstar on **Nov. 05**. How about the **total number of streams** this time?"
   ]
  },
  {
   "cell_type": "code",
   "execution_count": 4,
   "metadata": {},
   "outputs": [
    {
     "data": {
      "text/plain": [
       "Artist\n",
       "Sam Smith         14160873\n",
       "Post Malone       10948100\n",
       "Ed Sheeran         7242014\n",
       "Camila Cabello     4650867\n",
       "J Balvin           4108988\n",
       "21 Savage          3899862\n",
       "Maroon 5           3722522\n",
       "Charlie Puth       3609415\n",
       "Taylor Swift       3488365\n",
       "Dua Lipa           3295470\n",
       "Name: Streams, dtype: int64"
      ]
     },
     "execution_count": 4,
     "metadata": {},
     "output_type": "execute_result"
    }
   ],
   "source": [
    "df.groupby(['Artist'])['Streams'].sum().sort_values(ascending=False).head(10)"
   ]
  },
  {
   "cell_type": "markdown",
   "metadata": {},
   "source": [
    "It seems like **Sam Smith** and **Post Malone** made lots of money from Spotify. Cool!!!"
   ]
  },
  {
   "cell_type": "markdown",
   "metadata": {},
   "source": [
    "## Part 02: Extracting Audio Features From Spotify API\n",
    "### Get Spotify ID\n",
    "In order to obtain **[audio features](https://developer.spotify.com/web-api/get-audio-features/)** from Spotify for further interesting analysis, we need to have a **[Spotify ID](https://developer.spotify.com/web-api/user-guide/#spotify-uris-and-ids)** of a track or song. Fortunately, Spotify ID is the last few characters of the URL in our DataFrame, so we don't have to look up Spotify ID for each song. Instread, all we need to do is some string operation."
   ]
  },
  {
   "cell_type": "code",
   "execution_count": 5,
   "metadata": {},
   "outputs": [
    {
     "data": {
      "text/html": [
       "<div>\n",
       "<style>\n",
       "    .dataframe thead tr:only-child th {\n",
       "        text-align: right;\n",
       "    }\n",
       "\n",
       "    .dataframe thead th {\n",
       "        text-align: left;\n",
       "    }\n",
       "\n",
       "    .dataframe tbody tr th {\n",
       "        vertical-align: top;\n",
       "    }\n",
       "</style>\n",
       "<table border=\"1\" class=\"dataframe\">\n",
       "  <thead>\n",
       "    <tr style=\"text-align: right;\">\n",
       "      <th></th>\n",
       "      <th>Position</th>\n",
       "      <th>Track Name</th>\n",
       "      <th>Artist</th>\n",
       "      <th>Streams</th>\n",
       "      <th>URL</th>\n",
       "      <th>Spotify_ID</th>\n",
       "    </tr>\n",
       "  </thead>\n",
       "  <tbody>\n",
       "    <tr>\n",
       "      <th>0</th>\n",
       "      <td>1</td>\n",
       "      <td>rockstar</td>\n",
       "      <td>Post Malone</td>\n",
       "      <td>5086329</td>\n",
       "      <td>https://open.spotify.com/track/7wGoVu4Dady5GV0...</td>\n",
       "      <td>7wGoVu4Dady5GV0Sv4UIsx</td>\n",
       "    </tr>\n",
       "    <tr>\n",
       "      <th>1</th>\n",
       "      <td>2</td>\n",
       "      <td>Havana</td>\n",
       "      <td>Camila Cabello</td>\n",
       "      <td>4219170</td>\n",
       "      <td>https://open.spotify.com/track/0ofbQMrRDsUaVKq...</td>\n",
       "      <td>0ofbQMrRDsUaVKq2mGLEAb</td>\n",
       "    </tr>\n",
       "    <tr>\n",
       "      <th>2</th>\n",
       "      <td>3</td>\n",
       "      <td>Too Good At Goodbyes</td>\n",
       "      <td>Sam Smith</td>\n",
       "      <td>3652071</td>\n",
       "      <td>https://open.spotify.com/track/1mXVgsBdtIVeCLJ...</td>\n",
       "      <td>1mXVgsBdtIVeCLJnSnmtdV</td>\n",
       "    </tr>\n",
       "    <tr>\n",
       "      <th>3</th>\n",
       "      <td>4</td>\n",
       "      <td>New Rules</td>\n",
       "      <td>Dua Lipa</td>\n",
       "      <td>3295470</td>\n",
       "      <td>https://open.spotify.com/track/2ekn2ttSfGqwhha...</td>\n",
       "      <td>2ekn2ttSfGqwhhate0LSR0</td>\n",
       "    </tr>\n",
       "    <tr>\n",
       "      <th>4</th>\n",
       "      <td>5</td>\n",
       "      <td>What Lovers Do (feat. SZA)</td>\n",
       "      <td>Maroon 5</td>\n",
       "      <td>2994195</td>\n",
       "      <td>https://open.spotify.com/track/4nYsmWkuTaowTMy...</td>\n",
       "      <td>4nYsmWkuTaowTMy4gskmBw</td>\n",
       "    </tr>\n",
       "  </tbody>\n",
       "</table>\n",
       "</div>"
      ],
      "text/plain": [
       "   Position                  Track Name          Artist  Streams  \\\n",
       "0         1                    rockstar     Post Malone  5086329   \n",
       "1         2                      Havana  Camila Cabello  4219170   \n",
       "2         3        Too Good At Goodbyes       Sam Smith  3652071   \n",
       "3         4                   New Rules        Dua Lipa  3295470   \n",
       "4         5  What Lovers Do (feat. SZA)        Maroon 5  2994195   \n",
       "\n",
       "                                                 URL              Spotify_ID  \n",
       "0  https://open.spotify.com/track/7wGoVu4Dady5GV0...  7wGoVu4Dady5GV0Sv4UIsx  \n",
       "1  https://open.spotify.com/track/0ofbQMrRDsUaVKq...  0ofbQMrRDsUaVKq2mGLEAb  \n",
       "2  https://open.spotify.com/track/1mXVgsBdtIVeCLJ...  1mXVgsBdtIVeCLJnSnmtdV  \n",
       "3  https://open.spotify.com/track/2ekn2ttSfGqwhha...  2ekn2ttSfGqwhhate0LSR0  \n",
       "4  https://open.spotify.com/track/4nYsmWkuTaowTMy...  4nYsmWkuTaowTMy4gskmBw  "
      ]
     },
     "execution_count": 5,
     "metadata": {},
     "output_type": "execute_result"
    }
   ],
   "source": [
    "# get Spotify ID\n",
    "df['Spotify_ID'] = df.apply(lambda row: row['URL'].split('/')[-1], axis=1)\n",
    "\n",
    "# have a quick look\n",
    "df.head()"
   ]
  },
  {
   "cell_type": "markdown",
   "metadata": {},
   "source": [
    "The last column **Spotify_ID** is the specific code that allows us to extract music propreties or audio features from Spotfy API."
   ]
  },
  {
   "cell_type": "markdown",
   "metadata": {},
   "source": [
    "### Connect to Spotify API via spotipy\n",
    "Before getting any audio features, we need \n",
    "- Python package [spotipy](https://github.com/plamere/spotipy) to help us connect to Spotify API. (spoty-**py** not spoti-**fy**)\n",
    "- **client id** and **client secret** from [Spotify Developer](https://developer.spotify.com/my-applications/#!/).\n",
    "\n",
    "Once having the **spotipy** package installed and a set of client id and client secret, we can continue on"
   ]
  },
  {
   "cell_type": "code",
   "execution_count": 6,
   "metadata": {},
   "outputs": [],
   "source": [
    "# import libaray from spotify\n",
    "import spotipy\n",
    "from spotipy.oauth2 import SpotifyClientCredentials"
   ]
  },
  {
   "cell_type": "code",
   "execution_count": 7,
   "metadata": {},
   "outputs": [],
   "source": [
    "# setup Spotify client ID and password\n",
    "client_id = 'YOUR ID HERE'\n",
    "client_secret = 'YOUR PASSWORD HERE'\n",
    "\n",
    "# connect to Spotify API via spotipy package \n",
    "client_credentials_manager = SpotifyClientCredentials(client_id, client_secret)\n",
    "sp = spotipy.Spotify(client_credentials_manager=client_credentials_manager)"
   ]
  },
  {
   "cell_type": "markdown",
   "metadata": {},
   "source": [
    "### Get audio features\n",
    "Let's use the first Spotify ID to take a quick look at what kinds of features does Spotify offer. To do this, we can use the function **audio_features** from **spotipy**."
   ]
  },
  {
   "cell_type": "code",
   "execution_count": 8,
   "metadata": {},
   "outputs": [
    {
     "data": {
      "text/plain": [
       "{'acousticness': 0.13,\n",
       " 'analysis_url': 'https://api.spotify.com/v1/audio-analysis/7wGoVu4Dady5GV0Sv4UIsx',\n",
       " 'danceability': 0.577,\n",
       " 'duration_ms': 218320,\n",
       " 'energy': 0.522,\n",
       " 'id': '7wGoVu4Dady5GV0Sv4UIsx',\n",
       " 'instrumentalness': 9.03e-05,\n",
       " 'key': 5,\n",
       " 'liveness': 0.142,\n",
       " 'loudness': -6.594,\n",
       " 'mode': 0,\n",
       " 'speechiness': 0.0984,\n",
       " 'tempo': 159.772,\n",
       " 'time_signature': 4,\n",
       " 'track_href': 'https://api.spotify.com/v1/tracks/7wGoVu4Dady5GV0Sv4UIsx',\n",
       " 'type': 'audio_features',\n",
       " 'uri': 'spotify:track:7wGoVu4Dady5GV0Sv4UIsx',\n",
       " 'valence': 0.119}"
      ]
     },
     "execution_count": 8,
     "metadata": {},
     "output_type": "execute_result"
    }
   ],
   "source": [
    "# use Spotify ID of the first song\n",
    "this_id = df.Spotify_ID[0]\n",
    "\n",
    "# take a look for audio features of the first song\n",
    "sp.audio_features(this_id)[0]"
   ]
  },
  {
   "cell_type": "markdown",
   "metadata": {},
   "source": [
    "Wow, Spotify provides lots of interesting audio features of a song!!"
   ]
  },
  {
   "cell_type": "markdown",
   "metadata": {},
   "source": [
    "Personally, I think most of the top songs are quite like **Party Songs** in recent years. So let's extract the audio feature **danceability**."
   ]
  },
  {
   "cell_type": "code",
   "execution_count": 9,
   "metadata": {},
   "outputs": [
    {
     "data": {
      "text/html": [
       "<div>\n",
       "<style>\n",
       "    .dataframe thead tr:only-child th {\n",
       "        text-align: right;\n",
       "    }\n",
       "\n",
       "    .dataframe thead th {\n",
       "        text-align: left;\n",
       "    }\n",
       "\n",
       "    .dataframe tbody tr th {\n",
       "        vertical-align: top;\n",
       "    }\n",
       "</style>\n",
       "<table border=\"1\" class=\"dataframe\">\n",
       "  <thead>\n",
       "    <tr style=\"text-align: right;\">\n",
       "      <th></th>\n",
       "      <th>Position</th>\n",
       "      <th>Track Name</th>\n",
       "      <th>Artist</th>\n",
       "      <th>Streams</th>\n",
       "      <th>URL</th>\n",
       "      <th>Spotify_ID</th>\n",
       "      <th>danceability</th>\n",
       "    </tr>\n",
       "  </thead>\n",
       "  <tbody>\n",
       "    <tr>\n",
       "      <th>0</th>\n",
       "      <td>1</td>\n",
       "      <td>rockstar</td>\n",
       "      <td>Post Malone</td>\n",
       "      <td>5086329</td>\n",
       "      <td>https://open.spotify.com/track/7wGoVu4Dady5GV0...</td>\n",
       "      <td>7wGoVu4Dady5GV0Sv4UIsx</td>\n",
       "      <td>0.577</td>\n",
       "    </tr>\n",
       "    <tr>\n",
       "      <th>1</th>\n",
       "      <td>2</td>\n",
       "      <td>Havana</td>\n",
       "      <td>Camila Cabello</td>\n",
       "      <td>4219170</td>\n",
       "      <td>https://open.spotify.com/track/0ofbQMrRDsUaVKq...</td>\n",
       "      <td>0ofbQMrRDsUaVKq2mGLEAb</td>\n",
       "      <td>0.768</td>\n",
       "    </tr>\n",
       "    <tr>\n",
       "      <th>2</th>\n",
       "      <td>3</td>\n",
       "      <td>Too Good At Goodbyes</td>\n",
       "      <td>Sam Smith</td>\n",
       "      <td>3652071</td>\n",
       "      <td>https://open.spotify.com/track/1mXVgsBdtIVeCLJ...</td>\n",
       "      <td>1mXVgsBdtIVeCLJnSnmtdV</td>\n",
       "      <td>0.698</td>\n",
       "    </tr>\n",
       "    <tr>\n",
       "      <th>3</th>\n",
       "      <td>4</td>\n",
       "      <td>New Rules</td>\n",
       "      <td>Dua Lipa</td>\n",
       "      <td>3295470</td>\n",
       "      <td>https://open.spotify.com/track/2ekn2ttSfGqwhha...</td>\n",
       "      <td>2ekn2ttSfGqwhhate0LSR0</td>\n",
       "      <td>0.756</td>\n",
       "    </tr>\n",
       "    <tr>\n",
       "      <th>4</th>\n",
       "      <td>5</td>\n",
       "      <td>What Lovers Do (feat. SZA)</td>\n",
       "      <td>Maroon 5</td>\n",
       "      <td>2994195</td>\n",
       "      <td>https://open.spotify.com/track/4nYsmWkuTaowTMy...</td>\n",
       "      <td>4nYsmWkuTaowTMy4gskmBw</td>\n",
       "      <td>0.792</td>\n",
       "    </tr>\n",
       "  </tbody>\n",
       "</table>\n",
       "</div>"
      ],
      "text/plain": [
       "   Position                  Track Name          Artist  Streams  \\\n",
       "0         1                    rockstar     Post Malone  5086329   \n",
       "1         2                      Havana  Camila Cabello  4219170   \n",
       "2         3        Too Good At Goodbyes       Sam Smith  3652071   \n",
       "3         4                   New Rules        Dua Lipa  3295470   \n",
       "4         5  What Lovers Do (feat. SZA)        Maroon 5  2994195   \n",
       "\n",
       "                                                 URL              Spotify_ID  \\\n",
       "0  https://open.spotify.com/track/7wGoVu4Dady5GV0...  7wGoVu4Dady5GV0Sv4UIsx   \n",
       "1  https://open.spotify.com/track/0ofbQMrRDsUaVKq...  0ofbQMrRDsUaVKq2mGLEAb   \n",
       "2  https://open.spotify.com/track/1mXVgsBdtIVeCLJ...  1mXVgsBdtIVeCLJnSnmtdV   \n",
       "3  https://open.spotify.com/track/2ekn2ttSfGqwhha...  2ekn2ttSfGqwhhate0LSR0   \n",
       "4  https://open.spotify.com/track/4nYsmWkuTaowTMy...  4nYsmWkuTaowTMy4gskmBw   \n",
       "\n",
       "   danceability  \n",
       "0         0.577  \n",
       "1         0.768  \n",
       "2         0.698  \n",
       "3         0.756  \n",
       "4         0.792  "
      ]
     },
     "execution_count": 9,
     "metadata": {},
     "output_type": "execute_result"
    }
   ],
   "source": [
    "# get the audio feature 'danceability' for every song \n",
    "# (this will take a few minutes since Spotify limit the speed for us to get the data)\n",
    "df['danceability'] = df.apply(lambda row: sp.audio_features(row['Spotify_ID'])[0]['danceability'], axis=1)\n",
    "\n",
    "# have a quick look\n",
    "df.head()"
   ]
  },
  {
   "cell_type": "code",
   "execution_count": 10,
   "metadata": {},
   "outputs": [
    {
     "data": {
      "image/png": "[encoded data removed]",
      "text/plain": [
       "<matplotlib.figure.Figure at 0x111262dd8>"
      ]
     },
     "metadata": {},
     "output_type": "display_data"
    }
   ],
   "source": [
    "# scatterplot for danceability across 200 songs\n",
    "df.plot('Position', 'danceability', kind='scatter', figsize=(14,6), marker='o', s=45, color='y', edgecolors='k')\n",
    "\n",
    "# add averaged danceability\n",
    "plt.hlines(df.danceability.mean(), 0, 200, alpha=.6, label='Mean of danceability')\n",
    "\n",
    "# add 0.5 line\n",
    "plt.hlines(.5, 0, 200, alpha=.8, color='navy', linestyles='dashed', label='Danceability = 0.5')\n",
    "\n",
    "# set properties\n",
    "plt.legend()\n",
    "plt.margins(.01)\n",
    "plt.show()"
   ]
  },
  {
   "cell_type": "markdown",
   "metadata": {},
   "source": [
    "According to Spotify API [documentation](https://developer.spotify.com/web-api/get-audio-features/),\n",
    "\n",
    "> *Danceability describes how suitable a track is for dancing... A value of 0.0 is least danceable and 1.0 is most danceable.*\n",
    "\n",
    "From the above scatterplot, we can see that most of the top songs having **danceability** higher than 0.5, which shows that people who using Spotfy like high danceability songs.\n",
    "\n",
    "Happy Data Analyzing!!!"
   ]
  },
  {
   "cell_type": "code",
   "execution_count": null,
   "metadata": {},
   "outputs": [],
   "source": []
  }
 ],
 "metadata": {
  "kernelspec": {
   "display_name": "Python 3",
   "language": "python",
   "name": "python3"
  },
  "language_info": {
   "codemirror_mode": {
    "name": "ipython",
    "version": 3
   },
   "file_extension": ".py",
   "mimetype": "text/x-python",
   "name": "python",
   "nbconvert_exporter": "python",
   "pygments_lexer": "ipython3",
   "version": "3.6.3"
  }
 },
 "nbformat": 4,
 "nbformat_minor": 2
}
